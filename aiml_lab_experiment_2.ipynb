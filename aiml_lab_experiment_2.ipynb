{
  "nbformat": 4,
  "nbformat_minor": 0,
  "metadata": {
    "colab": {
      "provenance": [],
      "authorship_tag": "ABX9TyMmfY07Ekf3kYtOC00QCq7D",
      "include_colab_link": true
    },
    "kernelspec": {
      "name": "python3",
      "display_name": "Python 3"
    },
    "language_info": {
      "name": "python"
    }
  },
  "cells": [
    {
      "cell_type": "markdown",
      "metadata": {
        "id": "view-in-github",
        "colab_type": "text"
      },
      "source": [
        "<a href=\"https://colab.research.google.com/github/manisharan-deep/2303A52148_aiml/blob/main/aiml_lab_experiment_2.ipynb\" target=\"_parent\"><img src=\"https://colab.research.google.com/assets/colab-badge.svg\" alt=\"Open In Colab\"/></a>"
      ]
    },
    {
      "cell_type": "code",
      "execution_count": null,
      "metadata": {
        "id": "nBjxB1OopjMo"
      },
      "outputs": [],
      "source": []
    },
    {
      "cell_type": "code",
      "source": [
        "from queue import Queue\n",
        "graph={0:[1,3],1:[0,2,3],2:[1,4,5],3:[0,1,4],4:[2,3,5],5:[2,4]}\n",
        "print(\"The adjacency list representing the graph is:\")\n",
        "print(graph)\n",
        "\n",
        "def bfs(graph,source):\n",
        "  Q=Queue()\n",
        "  visited_vertices=set()\n",
        "  Q.put(source)\n",
        "  visited_vertices.update({0})\n",
        "  while not Q.empty():\n",
        "    vertex=Q.get()\n",
        "    print(vertex,end=\"-->\")\n",
        "    for u in graph[vertex]:\n",
        "      if u not in visited_vertices:\n",
        "        Q.put(u)\n",
        "        visited_vertices.update({u})\n",
        "print(\"bfs Traversal of graph with source is: \")\n",
        "bfs(graph,0)\n"
      ],
      "metadata": {
        "colab": {
          "base_uri": "https://localhost:8080/"
        },
        "id": "yzZyaAoycR5d",
        "outputId": "007fabc2-fef8-4169-e74d-84fcf01d481f"
      },
      "execution_count": null,
      "outputs": [
        {
          "output_type": "stream",
          "name": "stdout",
          "text": [
            "The adjacency list representing the graph is:\n",
            "{0: [1, 3], 1: [0, 2, 3], 2: [1, 4, 5], 3: [0, 1, 4], 4: [2, 3, 5], 5: [2, 4]}\n",
            "bfs Traversal of graph with source is: \n",
            "0-->1-->3-->2-->4-->5-->"
          ]
        }
      ]
    }
  ]
}